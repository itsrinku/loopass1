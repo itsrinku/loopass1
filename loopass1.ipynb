{
 "cells": [
  {
   "cell_type": "code",
   "execution_count": 1,
   "id": "ee952695-2970-4b94-83b3-f03b8324a42f",
   "metadata": {},
   "outputs": [],
   "source": [
    "#"
   ]
  },
  {
   "cell_type": "code",
   "execution_count": null,
   "id": "6a2f3d66-b13f-4e41-b27e-8ed1a3c0648e",
   "metadata": {},
   "outputs": [],
   "source": []
  },
  {
   "cell_type": "code",
   "execution_count": null,
   "id": "abbf8011-9aeb-4b31-b67f-29ecda9d950a",
   "metadata": {},
   "outputs": [],
   "source": []
  },
  {
   "cell_type": "code",
   "execution_count": null,
   "id": "322caf18-0095-40b9-b856-b1473c6ae739",
   "metadata": {},
   "outputs": [],
   "source": []
  },
  {
   "cell_type": "code",
   "execution_count": 2,
   "id": "008b82f1-2236-4401-9fe8-2cf4bfe09789",
   "metadata": {},
   "outputs": [],
   "source": [
    "#ans2"
   ]
  },
  {
   "cell_type": "code",
   "execution_count": 21,
   "id": "d690cc8f-ca9a-47d8-a809-be0a4c830e77",
   "metadata": {},
   "outputs": [
    {
     "name": "stdout",
     "output_type": "stream",
     "text": [
      "55\n"
     ]
    }
   ],
   "source": [
    "\n",
    "sum=0\n",
    "for i in range(1,11):\n",
    "    sum=sum+i\n",
    "print(sum)\n",
    "    "
   ]
  },
  {
   "cell_type": "code",
   "execution_count": 22,
   "id": "cc7713f9-1396-495a-871d-a7cb26ea5eee",
   "metadata": {},
   "outputs": [
    {
     "name": "stdout",
     "output_type": "stream",
     "text": [
      "3628800\n"
     ]
    }
   ],
   "source": [
    "product=1\n",
    "for i in range(1,11,1):\n",
    "    product=product*i\n",
    "print(product)    "
   ]
  },
  {
   "cell_type": "code",
   "execution_count": 23,
   "id": "f5524751-92ad-479e-b62c-0c56183c36c4",
   "metadata": {},
   "outputs": [
    {
     "name": "stdout",
     "output_type": "stream",
     "text": [
      "55\n"
     ]
    }
   ],
   "source": [
    "s=0\n",
    "i=1\n",
    "while(i<=10):\n",
    "    s=s+i\n",
    "    i=i+1\n",
    "print(s)    \n",
    "    \n",
    "    "
   ]
  },
  {
   "cell_type": "code",
   "execution_count": 24,
   "id": "ecebf0c5-9e28-4623-8665-2ea0204b87d5",
   "metadata": {},
   "outputs": [
    {
     "name": "stdout",
     "output_type": "stream",
     "text": [
      "3628800\n"
     ]
    }
   ],
   "source": [
    "p=1\n",
    "i=1\n",
    "while(i<=10):\n",
    "    p=p*i\n",
    "    i=i+1\n",
    "print(p)    "
   ]
  },
  {
   "cell_type": "code",
   "execution_count": 2,
   "id": "4ee058a9-894e-49c1-acec-37c1de36df76",
   "metadata": {},
   "outputs": [],
   "source": [
    "#ans3 "
   ]
  },
  {
   "cell_type": "code",
   "execution_count": null,
   "id": "f244990f-22eb-4b97-bf25-502388ecc975",
   "metadata": {},
   "outputs": [],
   "source": [
    "unit=int(input(\"enter the no of units use in this month: \") )\n",
    "if unit<=100:\n",
    "    bill_amount=unit*4.5\n",
    "elif 200>=unit>100:\n",
    "    bill_amount=(unit-100)*6+100*4.5\n",
    "elif 300>=unit>200:\n",
    "    bill_amount=(unit-200)*10+100*10.5\n",
    "else:\n",
    "    bill_amount=(unit-300)*20+100*20.5\n",
    "    \n",
    "print(\"electricity bill of this month is : \", bill_amount)           "
   ]
  },
  {
   "cell_type": "code",
   "execution_count": 3,
   "id": "c1a28441-65f0-4eae-b475-880a43b693ec",
   "metadata": {},
   "outputs": [],
   "source": [
    "##ans4\n",
    "l1=[]"
   ]
  },
  {
   "cell_type": "code",
   "execution_count": 4,
   "id": "15ff0f66-8806-41b1-9ebf-83d2c874f040",
   "metadata": {},
   "outputs": [
    {
     "name": "stdout",
     "output_type": "stream",
     "text": [
      "[1, 2, 3, 4, 5, 6, 7, 8, 9, 10, 11, 12, 13, 14, 15, 16, 17, 18, 19, 20, 21, 22, 23, 24, 25, 26, 27, 28, 29, 30, 31, 32, 33, 34, 35, 36, 37, 38, 39, 40, 41, 42, 43, 44, 45, 46, 47, 48, 49, 50, 51, 52, 53, 54, 55, 56, 57, 58, 59, 60, 61, 62, 63, 64, 65, 66, 67, 68, 69, 70, 71, 72, 73, 74, 75, 76, 77, 78, 79, 80, 81, 82, 83, 84, 85, 86, 87, 88, 89, 90, 91, 92, 93, 94, 95, 96, 97, 98, 99, 100]\n"
     ]
    }
   ],
   "source": [
    "for i in range(1,101):\n",
    "    l1.append(i)\n",
    "print(l1)    "
   ]
  },
  {
   "cell_type": "code",
   "execution_count": 5,
   "id": "99ea6da8-225e-43ee-b3e9-7108ce870c94",
   "metadata": {},
   "outputs": [
    {
     "name": "stdout",
     "output_type": "stream",
     "text": [
      "[1, 8, 27, 64, 125, 216, 343, 512, 729, 1000, 1331, 1728, 2197, 2744, 3375, 4096, 4913, 5832, 6859, 8000, 9261, 10648, 12167, 13824, 15625, 17576, 19683, 21952, 24389, 27000, 29791, 32768, 35937, 39304, 42875, 46656, 50653, 54872, 59319, 64000, 68921, 74088, 79507, 85184, 91125, 97336, 103823, 110592, 117649, 125000, 132651, 140608, 148877, 157464, 166375, 175616, 185193, 195112, 205379, 216000, 226981, 238328, 250047, 262144, 274625, 287496, 300763, 314432, 328509, 343000, 357911, 373248, 389017, 405224, 421875, 438976, 456533, 474552, 493039, 512000, 531441, 551368, 571787, 592704, 614125, 636056, 658503, 681472, 704969, 729000, 753571, 778688, 804357, 830584, 857375, 884736, 912673, 941192, 970299, 1000000]\n"
     ]
    }
   ],
   "source": [
    "i=0\n",
    "l2=[]\n",
    "while i<100:\n",
    "    l2.append(l1[i]**3)\n",
    "    i+=1\n",
    "print(l2)    \n",
    "    "
   ]
  },
  {
   "cell_type": "code",
   "execution_count": 6,
   "id": "12971aed-3836-4771-9574-e5aa37076e39",
   "metadata": {},
   "outputs": [
    {
     "name": "stdout",
     "output_type": "stream",
     "text": [
      "[8, 64, 125, 216, 512, 1000, 1728, 2744, 3375, 4096, 5832, 8000, 10648, 13824, 15625, 17576, 21952, 27000, 32768, 39304, 42875, 46656, 54872, 64000, 74088, 85184, 91125, 97336, 110592, 125000, 140608, 157464, 166375, 175616, 195112, 216000, 238328, 262144, 274625, 287496, 314432, 343000, 373248, 405224, 421875, 438976, 474552, 512000, 551368, 592704, 614125, 636056, 681472, 729000, 778688, 830584, 857375, 884736, 941192, 1000000]\n"
     ]
    }
   ],
   "source": [
    "l3=[]\n",
    "for i in l2:\n",
    "    if i%4==0 or i%5==0:\n",
    "        l3.append(i)\n",
    "print(l3)"
   ]
  },
  {
   "cell_type": "code",
   "execution_count": 7,
   "id": "66540e97-40ed-4083-b01e-fcf22ffa7228",
   "metadata": {},
   "outputs": [],
   "source": [
    "#ans 5\n"
   ]
  },
  {
   "cell_type": "code",
   "execution_count": 10,
   "id": "7ecf425a-8038-4770-b8d4-3b713df889db",
   "metadata": {},
   "outputs": [
    {
     "name": "stdout",
     "output_type": "stream",
     "text": [
      "12\n"
     ]
    }
   ],
   "source": [
    "st=\"i want to become a data scientist\"\n",
    "m=0;\n",
    "for i in st:\n",
    "    if i==\"a\"or i==\"e\" or i== \"i\" or i==\"o\"or i==\"u\":\n",
    "        m+=1\n",
    "print(m)        \n",
    "        \n",
    "        \n",
    "        "
   ]
  },
  {
   "cell_type": "code",
   "execution_count": null,
   "id": "677d3993-724f-41db-9f77-30c5cb60248b",
   "metadata": {
    "tags": []
   },
   "outputs": [],
   "source": []
  },
  {
   "cell_type": "code",
   "execution_count": null,
   "id": "1cfc6ff4-0e24-4c23-b987-9ac330eb9320",
   "metadata": {},
   "outputs": [],
   "source": []
  },
  {
   "cell_type": "code",
   "execution_count": null,
   "id": "1fb66941-8f57-4a93-8881-e2ff748bc602",
   "metadata": {},
   "outputs": [],
   "source": []
  },
  {
   "cell_type": "code",
   "execution_count": null,
   "id": "a3cb5b56-5eca-4d03-9fc8-fe142bbd2586",
   "metadata": {},
   "outputs": [],
   "source": []
  },
  {
   "cell_type": "code",
   "execution_count": null,
   "id": "15f253c8-9371-4083-859c-2719caa85b9f",
   "metadata": {},
   "outputs": [],
   "source": []
  }
 ],
 "metadata": {
  "kernelspec": {
   "display_name": "Python 3 (ipykernel)",
   "language": "python",
   "name": "python3"
  },
  "language_info": {
   "codemirror_mode": {
    "name": "ipython",
    "version": 3
   },
   "file_extension": ".py",
   "mimetype": "text/x-python",
   "name": "python",
   "nbconvert_exporter": "python",
   "pygments_lexer": "ipython3",
   "version": "3.10.6"
  }
 },
 "nbformat": 4,
 "nbformat_minor": 5
}
